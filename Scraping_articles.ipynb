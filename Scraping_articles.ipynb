{
 "cells": [
  {
   "cell_type": "markdown",
   "id": "748ff24a",
   "metadata": {},
   "source": [
    "## Importing Libraries"
   ]
  },
  {
   "cell_type": "code",
   "execution_count": 2,
   "id": "008cad48",
   "metadata": {},
   "outputs": [],
   "source": [
    "import pandas as pd \n",
    "from bs4 import BeautifulSoup\n",
    "import requests"
   ]
  },
  {
   "cell_type": "markdown",
   "id": "6059059b",
   "metadata": {},
   "source": [
    "## Importing Input Data"
   ]
  },
  {
   "cell_type": "code",
   "execution_count": 15,
   "id": "6e1a9e18",
   "metadata": {},
   "outputs": [
    {
     "data": {
      "text/html": [
       "<div>\n",
       "<style scoped>\n",
       "    .dataframe tbody tr th:only-of-type {\n",
       "        vertical-align: middle;\n",
       "    }\n",
       "\n",
       "    .dataframe tbody tr th {\n",
       "        vertical-align: top;\n",
       "    }\n",
       "\n",
       "    .dataframe thead th {\n",
       "        text-align: right;\n",
       "    }\n",
       "</style>\n",
       "<table border=\"1\" class=\"dataframe\">\n",
       "  <thead>\n",
       "    <tr style=\"text-align: right;\">\n",
       "      <th></th>\n",
       "      <th>URL_ID</th>\n",
       "      <th>URL</th>\n",
       "    </tr>\n",
       "  </thead>\n",
       "  <tbody>\n",
       "    <tr>\n",
       "      <th>0</th>\n",
       "      <td>123.0</td>\n",
       "      <td>https://insights.blackcoffer.com/rise-of-telem...</td>\n",
       "    </tr>\n",
       "    <tr>\n",
       "      <th>1</th>\n",
       "      <td>321.0</td>\n",
       "      <td>https://insights.blackcoffer.com/rise-of-e-hea...</td>\n",
       "    </tr>\n",
       "    <tr>\n",
       "      <th>2</th>\n",
       "      <td>2345.0</td>\n",
       "      <td>https://insights.blackcoffer.com/rise-of-e-hea...</td>\n",
       "    </tr>\n",
       "    <tr>\n",
       "      <th>3</th>\n",
       "      <td>4321.0</td>\n",
       "      <td>https://insights.blackcoffer.com/rise-of-telem...</td>\n",
       "    </tr>\n",
       "    <tr>\n",
       "      <th>4</th>\n",
       "      <td>432.0</td>\n",
       "      <td>https://insights.blackcoffer.com/rise-of-telem...</td>\n",
       "    </tr>\n",
       "  </tbody>\n",
       "</table>\n",
       "</div>"
      ],
      "text/plain": [
       "   URL_ID                                                URL\n",
       "0   123.0  https://insights.blackcoffer.com/rise-of-telem...\n",
       "1   321.0  https://insights.blackcoffer.com/rise-of-e-hea...\n",
       "2  2345.0  https://insights.blackcoffer.com/rise-of-e-hea...\n",
       "3  4321.0  https://insights.blackcoffer.com/rise-of-telem...\n",
       "4   432.0  https://insights.blackcoffer.com/rise-of-telem..."
      ]
     },
     "execution_count": 15,
     "metadata": {},
     "output_type": "execute_result"
    }
   ],
   "source": [
    "df = pd.read_excel(r'G:\\internshala project\\Input.xlsx')\n",
    "df.head()"
   ]
  },
  {
   "cell_type": "markdown",
   "id": "a4540c42",
   "metadata": {},
   "source": [
    "## Scraping Articles"
   ]
  },
  {
   "cell_type": "code",
   "execution_count": 13,
   "id": "7ef227bd",
   "metadata": {},
   "outputs": [],
   "source": [
    "def scrape_articles(dataset):\n",
    "    for i,j in zip(dataset.URL, dataset.URL_ID):\n",
    "        print(i)\n",
    "        r = requests.get(i)\n",
    "        if r.status_code == 200:\n",
    "            soup = BeautifulSoup(r.text)\n",
    "            title = soup.find(\"title\").string\n",
    "            index = title.find(\"|\")\n",
    "            title = title[:index-1]\n",
    "            classes = soup.find(\"div\",{'class':'td_block_wrap tdb_single_content tdi_130 td-pb-border-top td_block_template_1 td-post-content tagdiv-type'})\n",
    "            if classes!= None:\n",
    "                divv= soup.find(\"div\",{'class':'td_block_wrap tdb_single_content tdi_130 td-pb-border-top td_block_template_1 td-post-content tagdiv-type'})\n",
    "                article_text = divv.find_all([\"ol\",\"p\",\"ul\",\"h1\",\"h2\",\"h3\",\"h4\",\"h5\",\"h6\"])\n",
    "            else:\n",
    "                divv = soup.find(\"div\",{'class':'td-post-content tagdiv-type'})\n",
    "                article_text = divv.find_all([\"ol\",\"p\",\"ul\",\"h1\",\"h2\",\"h3\",\"h4\",\"h5\",\"h6\"])\n",
    "            \n",
    "            body_article = \"\"\n",
    "            for i in article_text:\n",
    "                body_article = body_article + i.text\n",
    "                    \n",
    "            articles = title +\". \"+body_article\n",
    "            articles = articles.replace(\"\\u202f\",\" \").replace(\"\\xa0\",\" \")\n",
    "            file_path = str(j)+\".txt\"  # Change this to your desired file path\n",
    "            with open(file_path, 'w', encoding='utf8') as file:\n",
    "                file.write(articles)\n",
    "  "
   ]
  },
  {
   "cell_type": "code",
   "execution_count": 16,
   "id": "13e13b10",
   "metadata": {
    "scrolled": true
   },
   "outputs": [
    {
     "name": "stdout",
     "output_type": "stream",
     "text": [
      "https://insights.blackcoffer.com/rise-of-telemedicine-and-its-impact-on-livelihood-by-2040-3-2/\n",
      "https://insights.blackcoffer.com/rise-of-e-health-and-its-impact-on-humans-by-the-year-2030/\n",
      "https://insights.blackcoffer.com/rise-of-e-health-and-its-imapct-on-humans-by-the-year-2030-2/\n",
      "https://insights.blackcoffer.com/rise-of-telemedicine-and-its-impact-on-livelihood-by-2040-2/\n",
      "https://insights.blackcoffer.com/rise-of-telemedicine-and-its-impact-on-livelihood-by-2040-2-2/\n",
      "https://insights.blackcoffer.com/rise-of-chatbots-and-its-impact-on-customer-support-by-the-year-2040/\n",
      "https://insights.blackcoffer.com/rise-of-e-health-and-its-imapct-on-humans-by-the-year-2030/\n",
      "https://insights.blackcoffer.com/how-does-marketing-influence-businesses-and-consumers/\n",
      "https://insights.blackcoffer.com/how-advertisement-increase-your-market-value/\n",
      "https://insights.blackcoffer.com/negative-effects-of-marketing-on-society/\n",
      "https://insights.blackcoffer.com/how-advertisement-marketing-affects-business/\n",
      "https://insights.blackcoffer.com/rising-it-cities-will-impact-the-economy-environment-infrastructure-and-city-life-by-the-year-2035/\n",
      "https://insights.blackcoffer.com/rise-of-ott-platform-and-its-impact-on-entertainment-industry-by-the-year-2030/\n",
      "https://insights.blackcoffer.com/rise-of-electric-vehicles-and-its-impact-on-livelihood-by-2040/\n",
      "https://insights.blackcoffer.com/rise-of-electric-vehicle-and-its-impact-on-livelihood-by-the-year-2040/\n",
      "https://insights.blackcoffer.com/oil-prices-by-the-year-2040-and-how-it-will-impact-the-world-economy/\n",
      "https://insights.blackcoffer.com/an-outlook-of-healthcare-by-the-year-2040-and-how-it-will-impact-human-lives/\n",
      "https://insights.blackcoffer.com/ai-in-healthcare-to-improve-patient-outcomes/\n",
      "https://insights.blackcoffer.com/what-if-the-creation-is-taking-over-the-creator/\n",
      "https://insights.blackcoffer.com/what-jobs-will-robots-take-from-humans-in-the-future/\n",
      "https://insights.blackcoffer.com/will-machine-replace-the-human-in-the-future-of-work/\n",
      "https://insights.blackcoffer.com/will-ai-replace-us-or-work-with-us/\n",
      "https://insights.blackcoffer.com/man-and-machines-together-machines-are-more-diligent-than-humans-blackcoffe/\n",
      "https://insights.blackcoffer.com/in-future-or-in-upcoming-years-humans-and-machines-are-going-to-work-together-in-every-field-of-work/\n",
      "https://insights.blackcoffer.com/how-neural-networks-can-be-applied-in-various-areas-in-the-future/\n",
      "https://insights.blackcoffer.com/how-machine-learning-will-affect-your-business/\n",
      "https://insights.blackcoffer.com/deep-learning-impact-on-areas-of-e-learning/\n",
      "https://insights.blackcoffer.com/how-to-protect-future-data-and-its-privacy-blackcoffer/\n",
      "https://insights.blackcoffer.com/how-machines-ai-automations-and-robo-human-are-effective-in-finance-and-banking/\n",
      "https://insights.blackcoffer.com/ai-human-robotics-machine-future-planet-blackcoffer-thinking-jobs-workplace/\n",
      "https://insights.blackcoffer.com/how-ai-will-change-the-world-blackcoffer/\n",
      "https://insights.blackcoffer.com/future-of-work-how-ai-has-entered-the-workplace/\n",
      "https://insights.blackcoffer.com/ai-tool-alexa-google-assistant-finance-banking-tool-future/\n",
      "https://insights.blackcoffer.com/ai-healthcare-revolution-ml-technology-algorithm-google-analytics-industrialrevolution/\n",
      "https://insights.blackcoffer.com/all-you-need-to-know-about-online-marketing/\n",
      "https://insights.blackcoffer.com/evolution-of-advertising-industry/\n",
      "https://insights.blackcoffer.com/how-data-analytics-can-help-your-business-respond-to-the-impact-of-covid-19/\n",
      "https://insights.blackcoffer.com/covid-19-environmental-impact-for-the-future/\n",
      "https://insights.blackcoffer.com/environmental-impact-of-the-covid-19-pandemic-lesson-for-the-future/\n",
      "https://insights.blackcoffer.com/how-data-analytics-and-ai-are-used-to-halt-the-covid-19-pandemic/\n",
      "https://insights.blackcoffer.com/difference-between-artificial-intelligence-machine-learning-statistics-and-data-mining/\n",
      "https://insights.blackcoffer.com/how-python-became-the-first-choice-for-data-science/\n",
      "https://insights.blackcoffer.com/how-google-fit-measure-heart-and-respiratory-rates-using-a-phone/\n",
      "https://insights.blackcoffer.com/what-is-the-future-of-mobile-apps/\n",
      "https://insights.blackcoffer.com/impact-of-ai-in-health-and-medicine/\n",
      "https://insights.blackcoffer.com/telemedicine-what-patients-like-and-dislike-about-it/\n",
      "https://insights.blackcoffer.com/how-we-forecast-future-technologies/\n",
      "https://insights.blackcoffer.com/can-robots-tackle-late-life-loneliness/\n",
      "https://insights.blackcoffer.com/embedding-care-robots-into-society-socio-technical-considerations/\n",
      "https://insights.blackcoffer.com/management-challenges-for-future-digitalization-of-healthcare-services/\n",
      "https://insights.blackcoffer.com/are-we-any-closer-to-preventing-a-nuclear-holocaust/\n",
      "https://insights.blackcoffer.com/will-technology-eliminate-the-need-for-animal-testing-in-drug-development/\n",
      "https://insights.blackcoffer.com/will-we-ever-understand-the-nature-of-consciousness/\n",
      "https://insights.blackcoffer.com/will-we-ever-colonize-outer-space/\n",
      "https://insights.blackcoffer.com/what-is-the-chance-homo-sapiens-will-survive-for-the-next-500-years/\n",
      "https://insights.blackcoffer.com/why-does-your-business-need-a-chatbot/\n",
      "https://insights.blackcoffer.com/how-you-lead-a-project-or-a-team-without-any-technical-expertise/\n",
      "https://insights.blackcoffer.com/can-you-be-great-leader-without-technical-expertise/\n",
      "https://insights.blackcoffer.com/how-does-artificial-intelligence-affect-the-environment/\n",
      "https://insights.blackcoffer.com/how-to-overcome-your-fear-of-making-mistakes-2/\n",
      "https://insights.blackcoffer.com/is-perfection-the-greatest-enemy-of-productivity/\n",
      "https://insights.blackcoffer.com/global-financial-crisis-2008-causes-effects-and-its-solution/\n",
      "https://insights.blackcoffer.com/gender-diversity-and-equality-in-the-tech-industry/\n",
      "https://insights.blackcoffer.com/how-to-overcome-your-fear-of-making-mistakes/\n",
      "https://insights.blackcoffer.com/how-small-business-can-survive-the-coronavirus-crisis/\n",
      "https://insights.blackcoffer.com/impacts-of-covid-19-on-vegetable-vendors-and-food-stalls/\n",
      "https://insights.blackcoffer.com/impacts-of-covid-19-on-vegetable-vendors/\n",
      "https://insights.blackcoffer.com/impact-of-covid-19-pandemic-on-tourism-aviation-industries/\n",
      "https://insights.blackcoffer.com/impact-of-covid-19-pandemic-on-sports-events-around-the-world/\n",
      "https://insights.blackcoffer.com/changing-landscape-and-emerging-trends-in-the-indian-it-ites-industry/\n",
      "https://insights.blackcoffer.com/online-gaming-adolescent-online-gaming-effects-demotivated-depression-musculoskeletal-and-psychosomatic-symptoms/\n",
      "https://insights.blackcoffer.com/human-rights-outlook/\n",
      "https://insights.blackcoffer.com/how-voice-search-makes-your-business-a-successful-business/\n",
      "https://insights.blackcoffer.com/how-the-covid-19-crisis-is-redefining-jobs-and-services/\n",
      "https://insights.blackcoffer.com/how-to-increase-social-media-engagement-for-marketers/\n",
      "https://insights.blackcoffer.com/impacts-of-covid-19-on-streets-sides-food-stalls/\n",
      "https://insights.blackcoffer.com/coronavirus-impact-on-energy-markets-2/\n",
      "https://insights.blackcoffer.com/coronavirus-impact-on-the-hospitality-industry-5/\n",
      "https://insights.blackcoffer.com/lessons-from-the-past-some-key-learnings-relevant-to-the-coronavirus-crisis-4/\n",
      "https://insights.blackcoffer.com/estimating-the-impact-of-covid-19-on-the-world-of-work-2/\n",
      "https://insights.blackcoffer.com/estimating-the-impact-of-covid-19-on-the-world-of-work-3/\n",
      "https://insights.blackcoffer.com/travel-and-tourism-outlook/\n",
      "https://insights.blackcoffer.com/gaming-disorder-and-effects-of-gaming-on-health/\n",
      "https://insights.blackcoffer.com/what-is-the-repercussion-of-the-environment-due-to-the-covid-19-pandemic-situation/\n",
      "https://insights.blackcoffer.com/what-is-the-repercussion-of-the-environment-due-to-the-covid-19-pandemic-situation-2/\n",
      "https://insights.blackcoffer.com/impact-of-covid-19-pandemic-on-office-space-and-co-working-industries/\n",
      "https://insights.blackcoffer.com/contribution-of-handicrafts-visual-arts-literature-in-the-indian-economy/\n",
      "https://insights.blackcoffer.com/how-covid-19-is-impacting-payment-preferences/\n",
      "https://insights.blackcoffer.com/how-will-covid-19-affect-the-world-of-work-2/\n",
      "https://insights.blackcoffer.com/lessons-from-the-past-some-key-learnings-relevant-to-the-coronavirus-crisis/\n"
     ]
    },
    {
     "name": "stdout",
     "output_type": "stream",
     "text": [
      "https://insights.blackcoffer.com/covid-19-how-have-countries-been-responding/\n",
      "https://insights.blackcoffer.com/coronavirus-impact-on-the-hospitality-industry-2/\n",
      "https://insights.blackcoffer.com/how-will-covid-19-affect-the-world-of-work-3/\n",
      "https://insights.blackcoffer.com/coronavirus-impact-on-the-hospitality-industry-3/\n",
      "https://insights.blackcoffer.com/estimating-the-impact-of-covid-19-on-the-world-of-work/\n",
      "https://insights.blackcoffer.com/covid-19-how-have-countries-been-responding-2/\n",
      "https://insights.blackcoffer.com/how-will-covid-19-affect-the-world-of-work-4/\n",
      "https://insights.blackcoffer.com/lessons-from-the-past-some-key-learnings-relevant-to-the-coronavirus-crisis-2/\n",
      "https://insights.blackcoffer.com/lessons-from-the-past-some-key-learnings-relevant-to-the-coronavirus-crisis-3/\n",
      "https://insights.blackcoffer.com/coronavirus-impact-on-the-hospitality-industry-4/\n",
      "https://insights.blackcoffer.com/why-scams-like-nirav-modi-happen-with-indian-banks/\n",
      "https://insights.blackcoffer.com/impact-of-covid-19-on-the-global-economy/\n",
      "https://insights.blackcoffer.com/impact-of-covid-19coronavirus-on-the-indian-economy-2/\n",
      "https://insights.blackcoffer.com/impact-of-covid-19-on-the-global-economy-2/\n",
      "https://insights.blackcoffer.com/impact-of-covid-19-coronavirus-on-the-indian-economy-3/\n",
      "https://insights.blackcoffer.com/should-celebrities-be-allowed-to-join-politics/\n",
      "https://insights.blackcoffer.com/how-prepared-is-india-to-tackle-a-possible-covid-19-outbreak/\n",
      "https://insights.blackcoffer.com/how-will-covid-19-affect-the-world-of-work/\n",
      "https://insights.blackcoffer.com/controversy-as-a-marketing-strategy/\n",
      "https://insights.blackcoffer.com/coronavirus-impact-on-the-hospitality-industry/\n",
      "https://insights.blackcoffer.com/coronavirus-impact-on-energy-markets/\n",
      "https://insights.blackcoffer.com/what-are-the-key-policies-that-will-mitigate-the-impacts-of-covid-19-on-the-world-of-work/\n",
      "https://insights.blackcoffer.com/marketing-drives-results-with-a-focus-on-problems/\n",
      "https://insights.blackcoffer.com/continued-demand-for-sustainability/\n"
     ]
    }
   ],
   "source": [
    "scrape_articles(df)"
   ]
  }
 ],
 "metadata": {
  "kernelspec": {
   "display_name": "Python 3 (ipykernel)",
   "language": "python",
   "name": "python3"
  },
  "language_info": {
   "codemirror_mode": {
    "name": "ipython",
    "version": 3
   },
   "file_extension": ".py",
   "mimetype": "text/x-python",
   "name": "python",
   "nbconvert_exporter": "python",
   "pygments_lexer": "ipython3",
   "version": "3.10.9"
  }
 },
 "nbformat": 4,
 "nbformat_minor": 5
}
